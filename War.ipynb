{
 "cells": [
  {
   "cell_type": "code",
   "execution_count": 67,
   "metadata": {},
   "outputs": [],
   "source": [
    "import random \n",
    "suits = ('Hearts', 'Diamonds', 'Spaids', 'Clubs')\n",
    "ranks = ('Two', 'Three', 'Four', 'Five', 'Six', 'Seven', 'Eight', 'Nine', 'Ten', 'Jack', 'Queen', 'King', 'Ace')\n",
    "values = {'Two': 2, 'Three': 3, 'Four': 4, 'Five':5, 'Six': 6, 'Seven':7, 'Eight':8, 'Nine':9, 'Ten': 10, 'Jack': 11, 'Queen': 12, 'King': 13, 'Ace': 14} \n",
    "\n",
    "\n",
    "  \n"
   ]
  },
  {
   "cell_type": "code",
   "execution_count": 115,
   "metadata": {},
   "outputs": [
    {
     "ename": "IndentationError",
     "evalue": "expected an indented block after 'else' statement on line 31 (4231908026.py, line 32)",
     "output_type": "error",
     "traceback": [
      "\u001b[1;36m  Input \u001b[1;32mIn [115]\u001b[1;36m\u001b[0m\n\u001b[1;33m    def __str__(self):\u001b[0m\n\u001b[1;37m    ^\u001b[0m\n\u001b[1;31mIndentationError\u001b[0m\u001b[1;31m:\u001b[0m expected an indented block after 'else' statement on line 31\n"
     ]
    }
   ],
   "source": [
    "class Card:\n",
    "   \n",
    "    #UDNERSTAND SUIT, RANK, VALUE\n",
    "    def __init__(self, suit, rank):\n",
    "        self.suit = suit\n",
    "        self.rank = rank\n",
    "        self.value = values[rank]\n",
    "    def __str__(self):\n",
    "        return   self.rank + ' of ' + self.suit\n",
    "class Deck:\n",
    "    def __init__(self):\n",
    "        self.all_cards = []\n",
    "        for suit in suits:\n",
    "            for rank in ranks:\n",
    "                d1 = Card(suit,rank)\n",
    "                self.all_cards.append(d1)   \n",
    "    def shuff(self): \n",
    "        random.shuffle(self.all_cards) \n",
    "    def deal_one(self):\n",
    "        return self.all_cards.pop()    \n",
    "\n",
    "new_deck = Deck()\n",
    "class Player:\n",
    "    def __init__(self, name, ):\n",
    "        self.all_cards = []\n",
    "    def remove_one(self):\n",
    "        return self.all_cards.pop(0)\n",
    "    def add_one(self, new_cards):\n",
    "        if type(new_cards) == type([]):\n",
    "            self.all_cards.extend(new_cards)\n",
    "        else:    \n",
    "    def __str__(self):\n",
    "        return \"Player {} has {} cards\".format(self.name, len(self.all_cards))\n",
    "\n"
   ]
  },
  {
   "cell_type": "code",
   "execution_count": 114,
   "metadata": {},
   "outputs": [
    {
     "ename": "TypeError",
     "evalue": "'list' object is not callable",
     "output_type": "error",
     "traceback": [
      "\u001b[1;31m---------------------------------------------------------------------------\u001b[0m",
      "\u001b[1;31mTypeError\u001b[0m                                 Traceback (most recent call last)",
      "\u001b[1;32mc:\\Users\\bluef\\OneDrive\\Desktop\\VS code\\Learn.py\\War.ipynb Cell 3'\u001b[0m in \u001b[0;36m<cell line: 4>\u001b[1;34m()\u001b[0m\n\u001b[0;32m      <a href='vscode-notebook-cell:/c%3A/Users/bluef/OneDrive/Desktop/VS%20code/Learn.py/War.ipynb#ch0000004?line=1'>2</a>\u001b[0m new_deck \u001b[39m=\u001b[39m Deck()\n\u001b[0;32m      <a href='vscode-notebook-cell:/c%3A/Users/bluef/OneDrive/Desktop/VS%20code/Learn.py/War.ipynb#ch0000004?line=2'>3</a>\u001b[0m new_player\u001b[39m.\u001b[39mall_cards \u001b[39m=\u001b[39m new_deck\u001b[39m.\u001b[39mall_cards\n\u001b[1;32m----> <a href='vscode-notebook-cell:/c%3A/Users/bluef/OneDrive/Desktop/VS%20code/Learn.py/War.ipynb#ch0000004?line=3'>4</a>\u001b[0m \u001b[39mfor\u001b[39;00m item \u001b[39min\u001b[39;00m new_player\u001b[39m.\u001b[39;49mall_cards():\n\u001b[0;32m      <a href='vscode-notebook-cell:/c%3A/Users/bluef/OneDrive/Desktop/VS%20code/Learn.py/War.ipynb#ch0000004?line=4'>5</a>\u001b[0m     \u001b[39mprint\u001b[39m(item)\n",
      "\u001b[1;31mTypeError\u001b[0m: 'list' object is not callable"
     ]
    }
   ],
   "source": [
    "new_player = Player('Jose')\n",
    "new_deck = Deck()\n",
    "new_player.all_cards = new_deck.all_cards\n",
    "for item in new_player.all_cards():\n",
    "    print(item)\n"
   ]
  },
  {
   "cell_type": "code",
   "execution_count": 107,
   "metadata": {},
   "outputs": [
    {
     "name": "stdout",
     "output_type": "stream",
     "text": [
      "Four of Hearts\n",
      "51\n"
     ]
    }
   ],
   "source": [
    "\n"
   ]
  }
 ],
 "metadata": {
  "kernelspec": {
   "display_name": "Python 3.10.5 64-bit (windows store)",
   "language": "python",
   "name": "python3"
  },
  "language_info": {
   "name": "python",
   "version": "3.10.5"
  },
  "orig_nbformat": 4,
  "vscode": {
   "interpreter": {
    "hash": "81dca2d0f3ae6f29f421019c3a3fc49bac13acce454485e45cbe69da78f6117c"
   }
  }
 },
 "nbformat": 4,
 "nbformat_minor": 2
}
