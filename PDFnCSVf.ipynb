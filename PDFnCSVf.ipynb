{
 "cells": [
  {
   "cell_type": "code",
   "execution_count": 35,
   "metadata": {},
   "outputs": [],
   "source": [
    "import PyPDF2\n",
    "import csv\n",
    "import re"
   ]
  },
  {
   "cell_type": "code",
   "execution_count": 36,
   "metadata": {},
   "outputs": [],
   "source": [
    "f = open('find_the_link.csv', encoding='utf-8')\n",
    "find_the_link = csv.reader(f)\n",
    "find_the_link = list(find_the_link)\n"
   ]
  },
  {
   "cell_type": "code",
   "execution_count": 37,
   "metadata": {},
   "outputs": [
    {
     "data": {
      "text/plain": [
       "' https://drive.google.com/open?id=1G6SEgg018UB4_4xsAJJ5TdzrhmXipr4Q'"
      ]
     },
     "execution_count": 37,
     "metadata": {},
     "output_type": "execute_result"
    }
   ],
   "source": [
    "url = \" \"\n",
    "for x in range(0,len(find_the_link)):\n",
    "    hidden_letter = find_the_link[x][x]\n",
    "    url = url + hidden_letter\n",
    "url    "
   ]
  },
  {
   "cell_type": "code",
   "execution_count": 38,
   "metadata": {},
   "outputs": [],
   "source": [
    "f = open('Find_the_Phone_Number.pdf', 'rb')\n",
    "pdf = PyPDF2.PdfFileReader(f)\n"
   ]
  },
  {
   "cell_type": "code",
   "execution_count": 40,
   "metadata": {},
   "outputs": [],
   "source": [
    "all_text = ' '\n",
    "for n in range(pdf.numPages):\n",
    "     page = pdf.getPage(n)\n",
    "     page_text = page.extract_text()\n",
    "     all_text = all_text + \" \" + page_text\n"
   ]
  },
  {
   "cell_type": "code",
   "execution_count": 42,
   "metadata": {},
   "outputs": [
    {
     "data": {
      "text/plain": [
       "'ers in the kitchen? back of the net, this is not the hill i want to die on.\\n  \\n\\n \\n\\n \\n\\nAll hands on deck I just wa\\n nted to give you a heads\\n-\\nup, minimize backwards overflow \\n\\nand it\\'s not hard guys we need to future\\n -\\nproof this, yet quick win, yet gage [sic] where  the industry is heading and give back to the community what we’ve learned. \\n\\nTechnologically savvy can you slack\\n  \\nit to me? drink from the firehose, synergestic \\n\\nactionables. Obviously this is a no\\n -\\nbrainer, so what about scaling components to a \\n\\nglobal audience?, so dunder mifflin regroup. We need to get all stakeholders up to \\n\\nspeed and in the right place knowledge is \\n power circle back around, yet horsehead offer \\n\\nred flag we need this overall to be busier and more active hit the ground running. Can I \\n\\njust chime in on that one bake it in, onward and upward, productize the deliverables and \\n\\nfocus on the bottom line. Deploy\\n . Window of opportunity let\\'s schedule a standup during \\n\\nthe sprint to review our kpis can we take this offline, or gain traction. Meeting assassin \\n\\ntbrand terrorists put it on the parking lot or we\\'ve got to manage that low hanging fruit or \\n\\nlow engagement. \\nMeeting assassin hire the best yet we need distributors to evangelize \\n\\nthe new line to local markets, or corporate synergy nor face time. What do you feel you \\n\\nwould bring to the table if you were hired for this position synergestic actionables yet \\n\\nwork flow\\ns , nor marketing computer development html roi feedback team website what \\n\\ndo you feel you would bring to the table if you were hired for this position dear hiring \\n\\nmanager:. Can you ballpark the cost per unit for me. Five\\n -\\nyear strategic plan shotgun \\n\\napproa\\nch, it just needs more cowbell. Out of the loop player\\n -\\ncoach. What\\'s our go to \\n\\nmarket strategy?.\\n \\n\\n \\n\\n \\n\\nNot the long pole in my tent beef up, or accountable talk yet bleeding edge, so sorry i \\n\\ndidn\\'t get your email. All hands on deck we need to harvest synergy e\\n ffects, big data \\n\\nwhat\\'s the status on the deliverables for eow? Can you call Saul Goodman for me? His \\n\\nphone number is 505.503.4455. So horsehead offer. Talk to the slides no scraps hit the \\n\\nfloor window\\n-\\nlicker. Nail it down who\\'s responsible for the ask for\\n  \\nthis request? we need \\n\\ndistributors to evangelize the new line to local markets imagineer, or ensure to follow \\n\\nrequirements when developing solutions nor make it a priority. Out of scope drink from \\n\\nthe firehose, or shoot me an email nor we don\\'t need to bo\\n il the ocean here strategic fit, \\n\\nnor prairie dogging. Bottleneck mice quick\\n -\\nwin to be inspired is to become creative, \\n\\ninnovative and energized we want this philosophy to trickle down to all our stakeholders \\n\\nor synergestic actionables. I don\\'t want to drain\\n  \\nthe whole swamp, i just want to shoot \\n\\nsome alligators cannibalize, and define the underlying principles that drive decisions \\n\\nand strategy for your design language so I just wanted to give you a heads\\n -\\nup, or \\n\\nchurning anomalies but ultimate measure of succe\\n ss yet first\\n-\\norder optimal strategies. If \\n\\nyou want to motivate these clowns, try less carrot and more stick drill down focus on the \\n\\ncustomer journey feature creep after I ran into Helen at a restaurant, I realized she was \\n\\njust office pretty not a hill to d\\n ie on yet pro\\n-\\nsumer software. Come up with something \\n\\nbuzzworthy can you put it on my calendar? gage [sic] where the industry is heading and \\n\\ngive back to the community what we’ve learned where do we stand on the latest client \\n\\nask, yet in this space so criti\\n cality horsehead offer. Gain traction onward and upward, \\n\\nproductize the deliverables and focus on the bottom line for pro\\n -\\nsumer software, we just \\n\\nneed to put these last issues to bed, and we have to leverage up the messaging forcing  function yet we just ne\\ned to put these last issues to bed. After I ran into Helen at a \\n\\nrestaurant, I realized she was just office pretty organic growth drink from the firehose. \\n\\nIncentivization. We need more paper make it more corporate please so bottleneck mice \\n\\nyet what about sc\\naling components to a global audience?. Manage expectations \\n\\nenough to wash your face and flesh that out I have zero cycles for this not enough \\n\\nbandwidth, but are we in agreeance. We need to leverage our synergies usabiltiy, back\\n -\\n\\nend of third quarter. Pull \\nin ten extra bodies to help roll the tortoise get buy\\n -\\nin.\\n \\n\\n \\n\\n \\n\\nBake it in. Keep it lean. I have zero cycles for this upstream selling but design thinking \\n\\nlet\\'s unpack that later turd polishing. Horsehead offer timeframe, nor criticality or \\n\\ncommitment to the c\\nause push back. Make it more corporate please. I don\\'t want to \\n\\ndrain the whole swamp, i just want to shoot some alligators productize but optimize the \\n\\nfireball so tribal knowledge nor I just wanted to give you a heads\\n -\\nup, or time to open the \\n\\nkimono and you\\nr work on this project has been really impactful. What about scaling \\n\\ncomponents to a global audience? teams were able to drive adoption and awareness, \\n\\nthe right info at the right time to the right people so what\\'s the status on the deliverables \\n\\nfor eow? bu\\nt slow\\n-\\nwalk our commitment slow\\n -\\nwalk our commitment, or re\\n -\\ninventing the \\n\\nwheel. Back of the net not a hill to die on staff engagement, nor hire the best and how \\n\\nmuch bandwidth do you have, hammer out. Teams were able to drive adoption and \\n\\nawareness high tu\\nrnaround rate. Proceduralize you better eat a reality sandwich before \\n\\nyou walk back in that boardroom per my previous email. Close the loop we\\'ve got to \\n\\nmanage that low hanging fruit please use \"solutionise\" instead of solution ideas! :) for \\n\\ngoalposts. We \\nneed to get all stakeholders up to speed and in the right place. We need \\n\\nto touch base off\\n-\\nline before we fire the new ux experience organic growth, or strategic \\n\\nstaircase, nor crisp ppt commitment to the cause , we need to have a Come to Jesus \\n\\nmeeting wit\\nh Phil about his attitude throughput. Minimize backwards overflow organic \\n\\ngrowth, but scope creep. We need to crystallize a plan we need to get all stakeholders \\n\\nup to speed and in the right place but service as core &innovations as power makes our \\n\\nbrand ye\\nt three\\n-\\nmartini lunch powerpoint Bunny, and it is all exactly as i said, but i don\\'t \\n\\nlike it, baseline. Corporate synergy gain traction. Highlights vec table the discussion , \\n\\nnor globalize. We have put the apim bol, temporarily so that we can later put the\\n  \\n\\nmonitors on criticality c\\n-\\nsuite and minimize backwards overflow. Downselect upsell or \\n\\nwindow\\n-\\nlicker.\\n \\n\\n \\n\\n \\n\\nDisband the squad but rehydrate as needed let\\'s prioritize the low\\n -\\nhanging fruit, pig in a \\n\\npython. Teams were able to drive adoption and awareness. Move\\n  \\nthe needle exposing \\n\\nnew ways to evolve our design language optimize for search. Run it up the flagpole. \\n\\nWhere the metal hits the meat we need to crystallize a plan time vampire and thinking \\n\\noutside the box. Paddle on both sides we’re starting to formalize\\n  \\nflexible opinions  around our foundations or radical candor. Quick\\n -\\nwin we need to harvest synergy effects \\n\\nso sorry i didn\\'t get your email for back to the drawing\\n -\\nboard what the or this proposal is \\n\\na win\\n-\\nwin situation which will cause a stellar paradigm sh\\n ift, and produce a multi\\n-\\nfold \\n\\nincrease in deliverables. Time to open the kimono regroup so diversify kpis. Race \\n\\nwithout a finish line drill down, yet if you want to motivate these clowns, try less carrot \\n\\nand more stick, yet prioritize these line items for \\n pushback, for herding cats crank this \\n\\nout. Pipeline guerrilla marketing, nor not enough bandwidth player\\n -\\ncoach for prioritize \\n\\nthese line items. Synergestic actionables shotgun approach, nor eat our own dog food \\n\\nbaseline the procedure and samepage your depa\\n rtment. Push back crisp ppt nor tbrand \\n\\nterrorists, and run it up the flagpole.\\n  \\n\\n \\n\\n \\n\\nClosing these latest prospects is like putting socks on an octopus no scraps hit the floor \\n\\nthat\\'s not on the roadmap peel the onion run it up the flag pole service as core \\n\\n&innovations as power makes our brand. Let me know if you need me to crack any \\n\\nskulls. Focus on the customer journey cloud native container based, but you gotta \\n\\nsmoke test your hypothesis. Wheelhouse don\\'t over think it and no scraps hit the floor \\n\\nstrategi\\nc staircase. Your work on this project has been really impactful wheelhouse. \\n\\nShoot me an email sacred cow. Bottleneck mice that jerk from finance really threw me \\n\\nunder the bus core competencies, nor organic growth, for turn the crank, so optimize \\n\\nthe fireb\\nall herding cats. Back to the drawing\\n -\\nboard workflow ecosystem for re\\n -\\ninventing \\n\\nthe wheel please use \"solutionise\" instead of solution ideas! :), exposing new ways to \\n\\nevolve our design language. Low\\n -\\nhanging fruit that ipo will be a game\\n -\\nchanger. A set of \\n\\nc\\nertitudes based on deductions founded on false premise game plan, yet \\n\\ntechnologically savvy for pro\\n -\\nsumer software. Driving the initiative forward if you want to \\n\\nmotivate these clowns, try less carrot and more stick, gage [sic] where the industry is \\n\\nheadin\\ng and give back to the community what we’ve learned no scraps hit the floor, so \\n\\nkilling it, circle back. We have to leverage up the messaging spinning our wheels \\n\\ntechnologically savvy.\\n \\n\\n \\n\\n \\n\\nShelfware that jerk from finance really threw me under the bus first\\n -\\norder optimal \\n\\nstrategies collaboration through advanced technlogy nor disband the squad but \\n\\nrehydrate as needed. Focus on the customer journey red flag, yet can you run this by \\n\\nclearance? hot johnny coming through . That\\'s not on the roadmap to be inspired\\n  \\nis to \\n\\nbecome creative, innovative and energized we want this philosophy to trickle down to all \\n\\nour stakeholders but organic growth out of scope, for we just need to put these last \\n\\nissues to bed. Social currency gain traction, and overcome key issues to me\\n et key \\n\\nmilestones, feature creep, and red flag synergize productive mindfulness deploy to \\n\\nproduction. Time vampire. Exposing new ways to evolve our design language curate \\n\\nthose options are already baked in with this model, so eat our own dog food but draw \\n a  line in the sand, for zeitgeist. Per my previous email we need to harvest synergy effects. \\n\\nDear hiring manager: you better eat a reality sandwich before you walk back in that \\n\\nboardroom. Ladder up / ladder back to the strategy cloud native container based\\n  \\n(let\\'s \\n\\nnot try to) boil the ocean (here/there/everywhere), strategic fit. Game\\n -\\nplan target rich \\n\\nenvironment for bench mark. Hammer out game\\n -\\nplan it\\'s a simple lift and shift job. Put \\n\\nin in a deck for our standup today manage expectations nor baseline the \\n procedure and \\n\\nsamepage your department, but optimize the fireball. Viral engagement criticality \\n\\nproceduralize going forward don\\'t over think it nor wheelhouse. Synergestic actionables \\n\\ndrop\\n-\\ndead date, so collaboration through advanced technlogy horsehead of\\n fer. \\n\\nRehydrate the team can we align on lunch orders, for goalposts show pony. Sorry i \\n\\ndidn\\'t get your email design thinking for turn the crank, for old boys club. Those options \\n\\nare already baked in with this model loop back, and hammer out. Incentivizatio\\n n no \\n\\nscraps hit the floor synergize productive mindfulness baseline yet not a hill to die on \\n\\ndrink the Kool\\n-\\naid. Big boy pants marketing computer development html roi feedback \\n\\nteam website paddle on both sides, and quick\\n -\\nwin. This medium needs to be more \\n\\nd\\nynamic it is all exactly as i said, but i don\\'t like it churning anomalies ultimate measure \\n\\nof success nor parallel path. After I ran into Helen at a restaurant, I realized she was \\n\\njust office pretty focus on the customer journey so pipeline. Who\\'s respons\\n ible for the \\n\\nask for this request? minimize backwards overflow performance review but I just wanted \\n\\nto give you a heads\\n-\\nup. Put it on the parking lot drive awareness to increase \\n\\nengagement for that ipo will be a game\\n -\\nchanger product market fit for your wor\\n k on this \\n\\nproject has been really impactful, nor critical mass going forward. Optimize for search \\n\\nlet\\'s put a pin in that overcome key issues to meet key milestones, focus on the \\n\\ncustomer journey nor rehydrate the team. Close the loop.\\n  \\n\\n \\n\\n '"
      ]
     },
     "execution_count": 42,
     "metadata": {},
     "output_type": "execute_result"
    }
   ],
   "source": [
    "pattern = r'/d{3}'\n",
    "for match in re.finditer(pattern,all_text):\n",
    "    print(match)\n",
    "all_text[41808:418088+20]    "
   ]
  }
 ],
 "metadata": {
  "kernelspec": {
   "display_name": "Python 3.10.5 64-bit (windows store)",
   "language": "python",
   "name": "python3"
  },
  "language_info": {
   "codemirror_mode": {
    "name": "ipython",
    "version": 3
   },
   "file_extension": ".py",
   "mimetype": "text/x-python",
   "name": "python",
   "nbconvert_exporter": "python",
   "pygments_lexer": "ipython3",
   "version": "3.10.5"
  },
  "orig_nbformat": 4,
  "vscode": {
   "interpreter": {
    "hash": "81dca2d0f3ae6f29f421019c3a3fc49bac13acce454485e45cbe69da78f6117c"
   }
  }
 },
 "nbformat": 4,
 "nbformat_minor": 2
}
