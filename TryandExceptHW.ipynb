{
 "cells": [
  {
   "cell_type": "code",
   "execution_count": null,
   "metadata": {},
   "outputs": [],
   "source": [
    "def catch():\n",
    "    try:\n",
    "        for i in ['a', 'b', 'c']:\n",
    "            print(i**2)\n",
    "    except TypeError:\n",
    "        print(\"You can't square a String!\")\n",
    "result = catch()      \n",
    "print(result)\n",
    "def catch2():\n",
    "   try:\n",
    "        x = 5\n",
    "        y = 0\n",
    "        z = x/y\n",
    "   except ZeroDivisionError:\n",
    "        print(\"You can't divde 5/0 it is Undefinied\")\n",
    "   finally:     \n",
    "        print('All Done')\n",
    "result = catch2()        \n",
    "print(result)\n",
    "\n",
    "def ask():   \n",
    "    while True: \n",
    "        try:\n",
    "            inp = input('Input an Integer:')\n",
    "\n",
    "        except:    \n",
    "            print('An error occured, please try again!')\n",
    "        else:    \n",
    "            print(\"Thank you, you're number squared is {}\".format(inp**2))\n",
    "            break\n",
    "\n",
    "ask()"
   ]
  },
  {
   "cell_type": "code",
   "execution_count": 23,
   "metadata": {},
   "outputs": [
    {
     "name": "stdout",
     "output_type": "stream",
     "text": [
      "Your number is 500, Good Luck Billy!\n"
     ]
    },
    {
     "ename": "TypeError",
     "evalue": "did_u_win() missing 2 required positional arguments: 'inp' and 'winning_num'",
     "output_type": "error",
     "traceback": [
      "\u001b[1;31m---------------------------------------------------------------------------\u001b[0m",
      "\u001b[1;31mTypeError\u001b[0m                                 Traceback (most recent call last)",
      "\u001b[1;32mc:\\Users\\bluef\\OneDrive\\Desktop\\VS code\\Learn.py\\TryandExceptHW.ipynb Cell 2'\u001b[0m in \u001b[0;36m<cell line: 34>\u001b[1;34m()\u001b[0m\n\u001b[0;32m     <a href='vscode-notebook-cell:/c%3A/Users/bluef/OneDrive/Desktop/VS%20code/Learn.py/TryandExceptHW.ipynb#ch0000001?line=31'>32</a>\u001b[0m p1 \u001b[39m=\u001b[39m Lottery(\u001b[39m'\u001b[39m\u001b[39mBilly\u001b[39m\u001b[39m'\u001b[39m)       \n\u001b[0;32m     <a href='vscode-notebook-cell:/c%3A/Users/bluef/OneDrive/Desktop/VS%20code/Learn.py/TryandExceptHW.ipynb#ch0000001?line=32'>33</a>\u001b[0m p1\u001b[39m.\u001b[39mpick_num()\n\u001b[1;32m---> <a href='vscode-notebook-cell:/c%3A/Users/bluef/OneDrive/Desktop/VS%20code/Learn.py/TryandExceptHW.ipynb#ch0000001?line=33'>34</a>\u001b[0m p1\u001b[39m.\u001b[39;49mdid_u_win()\n",
      "\u001b[1;31mTypeError\u001b[0m: did_u_win() missing 2 required positional arguments: 'inp' and 'winning_num'"
     ]
    }
   ],
   "source": [
    "#create a lottery system, if \n",
    "from random import randint\n",
    "class Lottery:\n",
    "        winning_num = randint(0,100000)\n",
    "        \n",
    "        def __init__(self,  name):\n",
    "            self.name = name\n",
    "\n",
    "        def pick_num(self):\n",
    "            while True:\n",
    "                try:\n",
    "                    inp = int(input(\"Please pick a number in range from 0 to 1 million\"))\n",
    "                    \n",
    "                    if inp not in range(0, 1000000):\n",
    "                        g = 4\n",
    "                        print(g + 's')\n",
    "                except: \n",
    "                    print('Please input an approiate number!')\n",
    "                else:\n",
    "                    print('Your number is {}, Good Luck {}!'.format(str((inp)), self.name))\n",
    "                    break        \n",
    "         \n",
    "        def did_u_win(self, inp, winning_num):\n",
    "            if winning_num == int(inp):\n",
    "                print(\"{} has Won! Congrats!\".format(self.name))\n",
    "            else:\n",
    "                print(\"Unsuprisingly You've Lost\")\n",
    "        \n",
    "             \n",
    "       \n",
    "   \n",
    "p1 = Lottery('Billy')       \n",
    "p1.pick_num()\n",
    "p1.did_u_win() \n"
   ]
  },
  {
   "cell_type": "code",
   "execution_count": null,
   "metadata": {},
   "outputs": [],
   "source": []
  }
 ],
 "metadata": {
  "kernelspec": {
   "display_name": "Python 3.9.12 ('base')",
   "language": "python",
   "name": "python3"
  },
  "language_info": {
   "codemirror_mode": {
    "name": "ipython",
    "version": 3
   },
   "file_extension": ".py",
   "mimetype": "text/x-python",
   "name": "python",
   "nbconvert_exporter": "python",
   "pygments_lexer": "ipython3",
   "version": "3.9.12"
  },
  "orig_nbformat": 4,
  "vscode": {
   "interpreter": {
    "hash": "336eef9849b77f6b0e6305e90cdc738d46520fb9fa12c5786748c59b9e847d10"
   }
  }
 },
 "nbformat": 4,
 "nbformat_minor": 2
}
