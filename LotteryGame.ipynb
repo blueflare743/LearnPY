{
 "cells": [
  {
   "cell_type": "code",
   "execution_count": 6,
   "metadata": {},
   "outputs": [
    {
     "name": "stdout",
     "output_type": "stream",
     "text": [
      "Your number is 5, Good Luck Billy!\n",
      "Unsuprisingly You've Lost\n"
     ]
    }
   ],
   "source": [
    "#create a lottery system, if \n",
    "import random\n",
    "winning_num = random.randint(0,100000)\n",
    "class Lottery:\n",
    "        \n",
    "        \n",
    "        def __init__(self,  name):\n",
    "            self.name = name\n",
    "\n",
    "        def pick_num(self):\n",
    "            while True:\n",
    "                try:\n",
    "                    inp = int(input(\"Please pick a number in range from 0 to 1 million\"))\n",
    "                    \n",
    "                    if inp not in range(0, 1000000):\n",
    "                        g = 4\n",
    "                        print(g + 's')\n",
    "                except: \n",
    "                    print('Please input an approiate number!')\n",
    "                else:\n",
    "                    print('Your number is {}, Good Luck {}!'.format(str((inp)), self.name))\n",
    "                    break    \n",
    "            return inp        \n",
    "         \n",
    "        def did_u_win(self, inp, g):\n",
    "            if winning_num == int(inp):\n",
    "                print(\"{} has Won! Congrats!\".format(self.name))\n",
    "            else:\n",
    "                print(\"Unsuprisingly You've Lost\")\n",
    "        \n",
    "             \n",
    "       \n",
    "   \n",
    "p1 = Lottery('Billy')       \n",
    "result = p1.pick_num()\n",
    "p1.did_u_win(result, winning_num)"
   ]
  }
 ],
 "metadata": {
  "kernelspec": {
   "display_name": "Python 3.10.5 64-bit (windows store)",
   "language": "python",
   "name": "python3"
  },
  "language_info": {
   "codemirror_mode": {
    "name": "ipython",
    "version": 3
   },
   "file_extension": ".py",
   "mimetype": "text/x-python",
   "name": "python",
   "nbconvert_exporter": "python",
   "pygments_lexer": "ipython3",
   "version": "3.10.5"
  },
  "orig_nbformat": 4,
  "vscode": {
   "interpreter": {
    "hash": "81dca2d0f3ae6f29f421019c3a3fc49bac13acce454485e45cbe69da78f6117c"
   }
  }
 },
 "nbformat": 4,
 "nbformat_minor": 2
}
